{
 "cells": [
  {
   "cell_type": "markdown",
   "id": "e9c14324",
   "metadata": {
    "papermill": {
     "duration": 0.00734,
     "end_time": "2025-02-16T14:02:46.356050",
     "exception": false,
     "start_time": "2025-02-16T14:02:46.348710",
     "status": "completed"
    },
    "tags": []
   },
   "source": [
    "# **1. Installing Libraries**"
   ]
  },
  {
   "cell_type": "code",
   "execution_count": 1,
   "id": "62eafb04",
   "metadata": {
    "execution": {
     "iopub.execute_input": "2025-02-16T14:02:46.369874Z",
     "iopub.status.busy": "2025-02-16T14:02:46.369528Z",
     "iopub.status.idle": "2025-02-16T14:02:51.204402Z",
     "shell.execute_reply": "2025-02-16T14:02:51.203481Z"
    },
    "papermill": {
     "duration": 4.843581,
     "end_time": "2025-02-16T14:02:51.206104",
     "exception": false,
     "start_time": "2025-02-16T14:02:46.362523",
     "status": "completed"
    },
    "tags": []
   },
   "outputs": [
    {
     "name": "stdout",
     "output_type": "stream",
     "text": [
      "Collecting torch-summary\r\n",
      "  Downloading torch_summary-1.4.5-py3-none-any.whl.metadata (18 kB)\r\n",
      "Downloading torch_summary-1.4.5-py3-none-any.whl (16 kB)\r\n",
      "Installing collected packages: torch-summary\r\n",
      "Successfully installed torch-summary-1.4.5\r\n"
     ]
    }
   ],
   "source": [
    "!pip install torch-summary"
   ]
  },
  {
   "cell_type": "code",
   "execution_count": 2,
   "id": "7bbdb5c7",
   "metadata": {
    "execution": {
     "iopub.execute_input": "2025-02-16T14:02:51.221014Z",
     "iopub.status.busy": "2025-02-16T14:02:51.220738Z",
     "iopub.status.idle": "2025-02-16T14:02:54.755952Z",
     "shell.execute_reply": "2025-02-16T14:02:54.754748Z"
    },
    "papermill": {
     "duration": 3.544663,
     "end_time": "2025-02-16T14:02:54.757937",
     "exception": false,
     "start_time": "2025-02-16T14:02:51.213274",
     "status": "completed"
    },
    "tags": []
   },
   "outputs": [
    {
     "name": "stdout",
     "output_type": "stream",
     "text": [
      "Requirement already satisfied: torchsummary in /usr/local/lib/python3.10/dist-packages (1.5.1)\r\n"
     ]
    }
   ],
   "source": [
    "!pip install --upgrade torchsummary"
   ]
  },
  {
   "cell_type": "code",
   "execution_count": 3,
   "id": "1d92da02",
   "metadata": {
    "execution": {
     "iopub.execute_input": "2025-02-16T14:02:54.773042Z",
     "iopub.status.busy": "2025-02-16T14:02:54.772770Z",
     "iopub.status.idle": "2025-02-16T14:02:58.385132Z",
     "shell.execute_reply": "2025-02-16T14:02:58.384143Z"
    },
    "papermill": {
     "duration": 3.621154,
     "end_time": "2025-02-16T14:02:58.386771",
     "exception": false,
     "start_time": "2025-02-16T14:02:54.765617",
     "status": "completed"
    },
    "tags": []
   },
   "outputs": [
    {
     "name": "stdout",
     "output_type": "stream",
     "text": [
      "Requirement already satisfied: torch in /usr/local/lib/python3.10/dist-packages (2.5.1+cu121)\r\n",
      "Requirement already satisfied: filelock in /usr/local/lib/python3.10/dist-packages (from torch) (3.17.0)\r\n",
      "Requirement already satisfied: typing-extensions>=4.8.0 in /usr/local/lib/python3.10/dist-packages (from torch) (4.12.2)\r\n",
      "Requirement already satisfied: networkx in /usr/local/lib/python3.10/dist-packages (from torch) (3.4.2)\r\n",
      "Requirement already satisfied: jinja2 in /usr/local/lib/python3.10/dist-packages (from torch) (3.1.4)\r\n",
      "Requirement already satisfied: fsspec in /usr/local/lib/python3.10/dist-packages (from torch) (2024.9.0)\r\n",
      "Requirement already satisfied: sympy==1.13.1 in /usr/local/lib/python3.10/dist-packages (from torch) (1.13.1)\r\n",
      "Requirement already satisfied: mpmath<1.4,>=1.1.0 in /usr/local/lib/python3.10/dist-packages (from sympy==1.13.1->torch) (1.3.0)\r\n",
      "Requirement already satisfied: MarkupSafe>=2.0 in /usr/local/lib/python3.10/dist-packages (from jinja2->torch) (3.0.2)\r\n"
     ]
    }
   ],
   "source": [
    "!pip install torch"
   ]
  },
  {
   "cell_type": "code",
   "execution_count": 4,
   "id": "6d2377f2",
   "metadata": {
    "execution": {
     "iopub.execute_input": "2025-02-16T14:02:58.401773Z",
     "iopub.status.busy": "2025-02-16T14:02:58.401475Z",
     "iopub.status.idle": "2025-02-16T14:03:01.973439Z",
     "shell.execute_reply": "2025-02-16T14:03:01.972471Z"
    },
    "papermill": {
     "duration": 3.581892,
     "end_time": "2025-02-16T14:03:01.975781",
     "exception": false,
     "start_time": "2025-02-16T14:02:58.393889",
     "status": "completed"
    },
    "tags": []
   },
   "outputs": [
    {
     "name": "stdout",
     "output_type": "stream",
     "text": [
      "Requirement already satisfied: torchvision in /usr/local/lib/python3.10/dist-packages (0.20.1+cu121)\r\n",
      "Requirement already satisfied: numpy in /usr/local/lib/python3.10/dist-packages (from torchvision) (1.26.4)\r\n",
      "Requirement already satisfied: torch==2.5.1 in /usr/local/lib/python3.10/dist-packages (from torchvision) (2.5.1+cu121)\r\n",
      "Requirement already satisfied: pillow!=8.3.*,>=5.3.0 in /usr/local/lib/python3.10/dist-packages (from torchvision) (11.0.0)\r\n",
      "Requirement already satisfied: filelock in /usr/local/lib/python3.10/dist-packages (from torch==2.5.1->torchvision) (3.17.0)\r\n",
      "Requirement already satisfied: typing-extensions>=4.8.0 in /usr/local/lib/python3.10/dist-packages (from torch==2.5.1->torchvision) (4.12.2)\r\n",
      "Requirement already satisfied: networkx in /usr/local/lib/python3.10/dist-packages (from torch==2.5.1->torchvision) (3.4.2)\r\n",
      "Requirement already satisfied: jinja2 in /usr/local/lib/python3.10/dist-packages (from torch==2.5.1->torchvision) (3.1.4)\r\n",
      "Requirement already satisfied: fsspec in /usr/local/lib/python3.10/dist-packages (from torch==2.5.1->torchvision) (2024.9.0)\r\n",
      "Requirement already satisfied: sympy==1.13.1 in /usr/local/lib/python3.10/dist-packages (from torch==2.5.1->torchvision) (1.13.1)\r\n",
      "Requirement already satisfied: mpmath<1.4,>=1.1.0 in /usr/local/lib/python3.10/dist-packages (from sympy==1.13.1->torch==2.5.1->torchvision) (1.3.0)\r\n",
      "Requirement already satisfied: mkl_fft in /usr/local/lib/python3.10/dist-packages (from numpy->torchvision) (1.3.8)\r\n",
      "Requirement already satisfied: mkl_random in /usr/local/lib/python3.10/dist-packages (from numpy->torchvision) (1.2.4)\r\n",
      "Requirement already satisfied: mkl_umath in /usr/local/lib/python3.10/dist-packages (from numpy->torchvision) (0.1.1)\r\n",
      "Requirement already satisfied: mkl in /usr/local/lib/python3.10/dist-packages (from numpy->torchvision) (2025.0.1)\r\n",
      "Requirement already satisfied: tbb4py in /usr/local/lib/python3.10/dist-packages (from numpy->torchvision) (2022.0.0)\r\n",
      "Requirement already satisfied: mkl-service in /usr/local/lib/python3.10/dist-packages (from numpy->torchvision) (2.4.1)\r\n",
      "Requirement already satisfied: MarkupSafe>=2.0 in /usr/local/lib/python3.10/dist-packages (from jinja2->torch==2.5.1->torchvision) (3.0.2)\r\n",
      "Requirement already satisfied: intel-openmp>=2024 in /usr/local/lib/python3.10/dist-packages (from mkl->numpy->torchvision) (2024.2.0)\r\n",
      "Requirement already satisfied: tbb==2022.* in /usr/local/lib/python3.10/dist-packages (from mkl->numpy->torchvision) (2022.0.0)\r\n",
      "Requirement already satisfied: tcmlib==1.* in /usr/local/lib/python3.10/dist-packages (from tbb==2022.*->mkl->numpy->torchvision) (1.2.0)\r\n",
      "Requirement already satisfied: intel-cmplr-lib-rt in /usr/local/lib/python3.10/dist-packages (from mkl_umath->numpy->torchvision) (2024.2.0)\r\n",
      "Requirement already satisfied: intel-cmplr-lib-ur==2024.2.0 in /usr/local/lib/python3.10/dist-packages (from intel-openmp>=2024->mkl->numpy->torchvision) (2024.2.0)\r\n"
     ]
    }
   ],
   "source": [
    "!pip install torchvision"
   ]
  },
  {
   "cell_type": "code",
   "execution_count": 5,
   "id": "703f00f1",
   "metadata": {
    "execution": {
     "iopub.execute_input": "2025-02-16T14:03:01.991275Z",
     "iopub.status.busy": "2025-02-16T14:03:01.990979Z",
     "iopub.status.idle": "2025-02-16T14:03:05.727232Z",
     "shell.execute_reply": "2025-02-16T14:03:05.726309Z"
    },
    "papermill": {
     "duration": 3.745777,
     "end_time": "2025-02-16T14:03:05.729012",
     "exception": false,
     "start_time": "2025-02-16T14:03:01.983235",
     "status": "completed"
    },
    "tags": []
   },
   "outputs": [
    {
     "name": "stdout",
     "output_type": "stream",
     "text": [
      "Collecting split-folders\r\n",
      "  Downloading split_folders-0.5.1-py3-none-any.whl.metadata (6.2 kB)\r\n",
      "Downloading split_folders-0.5.1-py3-none-any.whl (8.4 kB)\r\n",
      "Installing collected packages: split-folders\r\n",
      "Successfully installed split-folders-0.5.1\r\n"
     ]
    }
   ],
   "source": [
    "!pip install split-folders"
   ]
  },
  {
   "cell_type": "markdown",
   "id": "2d767bef",
   "metadata": {
    "papermill": {
     "duration": 0.006535,
     "end_time": "2025-02-16T14:03:05.742701",
     "exception": false,
     "start_time": "2025-02-16T14:03:05.736166",
     "status": "completed"
    },
    "tags": []
   },
   "source": [
    "# **2. Importing Libraries**"
   ]
  },
  {
   "cell_type": "code",
   "execution_count": 6,
   "id": "adf98581",
   "metadata": {
    "execution": {
     "iopub.execute_input": "2025-02-16T14:03:05.757704Z",
     "iopub.status.busy": "2025-02-16T14:03:05.757438Z",
     "iopub.status.idle": "2025-02-16T14:03:15.553886Z",
     "shell.execute_reply": "2025-02-16T14:03:15.552862Z"
    },
    "papermill": {
     "duration": 9.80576,
     "end_time": "2025-02-16T14:03:15.555676",
     "exception": false,
     "start_time": "2025-02-16T14:03:05.749916",
     "status": "completed"
    },
    "tags": []
   },
   "outputs": [],
   "source": [
    "import torch\n",
    "import torch.nn as nn\n",
    "import torch.optim as optim\n",
    "import torchvision\n",
    "import torchvision.transforms as transforms \n",
    "import torch.nn.functional as F\n",
    "from torchvision.utils import make_grid\n",
    "import matplotlib.pyplot as plt\n",
    "import numpy as np\n",
    "import pathlib\n",
    "import splitfolders\n",
    "from torchsummary import summary\n",
    "\n",
    "import torch\n",
    "from torch.utils.data import DataLoader\n",
    "from torchvision.datasets import ImageFolder\n",
    "from sklearn.metrics import confusion_matrix\n",
    "import seaborn as sns"
   ]
  },
  {
   "cell_type": "markdown",
   "id": "37e5bbd5",
   "metadata": {
    "papermill": {
     "duration": 0.006674,
     "end_time": "2025-02-16T14:03:15.569427",
     "exception": false,
     "start_time": "2025-02-16T14:03:15.562753",
     "status": "completed"
    },
    "tags": []
   },
   "source": [
    "# **3. Loading Dataset**"
   ]
  },
  {
   "cell_type": "code",
   "execution_count": 7,
   "id": "fca2cb62",
   "metadata": {
    "execution": {
     "iopub.execute_input": "2025-02-16T14:03:15.583511Z",
     "iopub.status.busy": "2025-02-16T14:03:15.583100Z",
     "iopub.status.idle": "2025-02-16T14:03:15.586652Z",
     "shell.execute_reply": "2025-02-16T14:03:15.585861Z"
    },
    "papermill": {
     "duration": 0.011869,
     "end_time": "2025-02-16T14:03:15.587907",
     "exception": false,
     "start_time": "2025-02-16T14:03:15.576038",
     "status": "completed"
    },
    "tags": []
   },
   "outputs": [],
   "source": [
    "Dataset_path = pathlib.Path('/kaggle/input/rice-image-dataset/Rice_Image_Dataset')"
   ]
  },
  {
   "cell_type": "markdown",
   "id": "43e277f6",
   "metadata": {
    "papermill": {
     "duration": 0.006211,
     "end_time": "2025-02-16T14:03:15.600930",
     "exception": false,
     "start_time": "2025-02-16T14:03:15.594719",
     "status": "completed"
    },
    "tags": []
   },
   "source": [
    "# **4. Introduction**"
   ]
  },
  {
   "cell_type": "markdown",
   "id": "cb8481fc",
   "metadata": {
    "papermill": {
     "duration": 0.006646,
     "end_time": "2025-02-16T14:03:15.614320",
     "exception": false,
     "start_time": "2025-02-16T14:03:15.607674",
     "status": "completed"
    },
    "tags": []
   },
   "source": [
    "In this project, we have embarked on an exploration of image classification using the Rice_Image dataset.\n",
    "\n",
    "The primary objective of this endeavor is to construct and train convolutional neural network (CNN) models capable of accurately classifying these rice images.\n",
    "\n",
    "To accomplish this, we employed one of the most popular deep learning frameworks: PyTorch."
   ]
  },
  {
   "cell_type": "markdown",
   "id": "8781abe1",
   "metadata": {
    "papermill": {
     "duration": 0.006705,
     "end_time": "2025-02-16T14:03:15.627483",
     "exception": false,
     "start_time": "2025-02-16T14:03:15.620778",
     "status": "completed"
    },
    "tags": []
   },
   "source": [
    "**4.1 Introduction to Dataset**"
   ]
  },
  {
   "cell_type": "markdown",
   "id": "d4a10b26",
   "metadata": {
    "papermill": {
     "duration": 0.006495,
     "end_time": "2025-02-16T14:03:15.640648",
     "exception": false,
     "start_time": "2025-02-16T14:03:15.634153",
     "status": "completed"
    },
    "tags": []
   },
   "source": [
    "The Rice_Image dataset is a rich collection of 75,000 images meticulously categorized into five distinct classes: 'Arborio,' 'Basmati,' 'Ipsala,' 'Jasmine,' and 'Karacadag.'\n",
    "\n",
    "These images are of dimensions 250x250 pixels, providing ample visual information to enable accurate classification.\n",
    "\n",
    "The dataset's diversity reflects the unique characteristics of each rice type, making it an ideal candidate for showcasing the potential of CNN models in image classification tasks."
   ]
  },
  {
   "cell_type": "markdown",
   "id": "d89a8e5c",
   "metadata": {
    "papermill": {
     "duration": 0.006474,
     "end_time": "2025-02-16T14:03:15.653574",
     "exception": false,
     "start_time": "2025-02-16T14:03:15.647100",
     "status": "completed"
    },
    "tags": []
   },
   "source": [
    "**4.2 Pytorch Approach**"
   ]
  },
  {
   "cell_type": "markdown",
   "id": "937e1f25",
   "metadata": {
    "papermill": {
     "duration": 0.00653,
     "end_time": "2025-02-16T14:03:15.666687",
     "exception": false,
     "start_time": "2025-02-16T14:03:15.660157",
     "status": "completed"
    },
    "tags": []
   },
   "source": [
    "In the PyTorch framework, we concentrated on a single model's journey through data preprocessing, architecture construction, training, and evaluation.\n",
    "\n",
    "Utilizing the capabilities of PyTorch, we designed a CNN model with multiple convolutional and pooling layers to capture nuanced image features. We meticulously executed training loops, closely monitoring loss and accuracy metrics to ensure the model's effective convergence.\n",
    "\n",
    "Moreover, we visualized the training and validation progress to gain valuable insights into the model's learning trajectory."
   ]
  },
  {
   "cell_type": "markdown",
   "id": "0b8b2ba5",
   "metadata": {
    "papermill": {
     "duration": 0.006521,
     "end_time": "2025-02-16T14:03:15.680111",
     "exception": false,
     "start_time": "2025-02-16T14:03:15.673590",
     "status": "completed"
    },
    "tags": []
   },
   "source": [
    "# **5. Preparing Dataset**"
   ]
  },
  {
   "cell_type": "markdown",
   "id": "dbece579",
   "metadata": {
    "papermill": {
     "duration": 0.00652,
     "end_time": "2025-02-16T14:03:15.693436",
     "exception": false,
     "start_time": "2025-02-16T14:03:15.686916",
     "status": "completed"
    },
    "tags": []
   },
   "source": [
    "**5.1 Splitting the data into three folders: Train, Validation, and Test**"
   ]
  },
  {
   "cell_type": "code",
   "execution_count": 8,
   "id": "b450dab8",
   "metadata": {
    "execution": {
     "iopub.execute_input": "2025-02-16T14:03:15.707930Z",
     "iopub.status.busy": "2025-02-16T14:03:15.707687Z",
     "iopub.status.idle": "2025-02-16T14:11:20.326907Z",
     "shell.execute_reply": "2025-02-16T14:11:20.325810Z"
    },
    "papermill": {
     "duration": 484.627872,
     "end_time": "2025-02-16T14:11:20.328278",
     "exception": false,
     "start_time": "2025-02-16T14:03:15.700406",
     "status": "completed"
    },
    "tags": []
   },
   "outputs": [
    {
     "name": "stderr",
     "output_type": "stream",
     "text": [
      "Copying files: 75000 files [08:04, 154.77 files/s]\n"
     ]
    }
   ],
   "source": [
    "splitfolders.ratio(Dataset_path, output='Images', seed=42, ratio=(.7,.15,.15))"
   ]
  },
  {
   "cell_type": "markdown",
   "id": "6837ab41",
   "metadata": {
    "papermill": {
     "duration": 0.160318,
     "end_time": "2025-02-16T14:11:20.649488",
     "exception": false,
     "start_time": "2025-02-16T14:11:20.489170",
     "status": "completed"
    },
    "tags": []
   },
   "source": [
    "**5.2 Data Preprocessing: Image Transformation and Normalization**"
   ]
  },
  {
   "cell_type": "markdown",
   "id": "36f1711d",
   "metadata": {
    "papermill": {
     "duration": 0.162855,
     "end_time": "2025-02-16T14:11:21.013137",
     "exception": false,
     "start_time": "2025-02-16T14:11:20.850282",
     "status": "completed"
    },
    "tags": []
   },
   "source": [
    "In the upcoming steps, we focus on improving our dataset. We start by making some changes to the images, like flipping them, which adds variety to the training process.\n",
    "\n",
    "Additionally, we calculate the average color and color variation across all the images. These values give us insights into the typical colors and patterns in the dataset."
   ]
  },
  {
   "cell_type": "code",
   "execution_count": 9,
   "id": "742308a1",
   "metadata": {
    "execution": {
     "iopub.execute_input": "2025-02-16T14:11:21.329174Z",
     "iopub.status.busy": "2025-02-16T14:11:21.328864Z",
     "iopub.status.idle": "2025-02-16T14:13:05.059454Z",
     "shell.execute_reply": "2025-02-16T14:13:05.058435Z"
    },
    "papermill": {
     "duration": 104.051931,
     "end_time": "2025-02-16T14:13:05.223018",
     "exception": false,
     "start_time": "2025-02-16T14:11:21.171087",
     "status": "completed"
    },
    "tags": []
   },
   "outputs": [
    {
     "name": "stdout",
     "output_type": "stream",
     "text": [
      "Calculated Mean: tensor([0.1179, 0.1189, 0.1229])\n",
      "Calculated Std: tensor([0.2851, 0.2875, 0.2989])\n"
     ]
    }
   ],
   "source": [
    "# Define transformations\n",
    "transform = transforms.Compose([\n",
    "    transforms.Resize((250, 250)),\n",
    "    transforms.RandomHorizontalFlip(),\n",
    "    transforms.ToTensor()\n",
    "])\n",
    "\n",
    "# Load the train dataset\n",
    "train_dataset = ImageFolder('Images/train', transform=transform)\n",
    "\n",
    "# Create a DataLoader for the train dataset\n",
    "batch_size = 32\n",
    "train_loader = DataLoader(train_dataset, batch_size=batch_size, shuffle=True)\n",
    "\n",
    "# Calculate mean and std\n",
    "mean = 0.0\n",
    "std = 0.0\n",
    "num_samples = len(train_dataset)\n",
    "for data, _ in train_loader:\n",
    "    batch_samples = data.size(0)\n",
    "    data = data.view(batch_samples, data.size(1), -1)\n",
    "    mean += data.mean(2).sum(0)\n",
    "    std += data.std(2).sum(0)\n",
    "\n",
    "mean /= num_samples\n",
    "std /= num_samples\n",
    "\n",
    "print(\"Calculated Mean:\", mean)\n",
    "print(\"Calculated Std:\", std)"
   ]
  },
  {
   "cell_type": "markdown",
   "id": "b1877f27",
   "metadata": {
    "papermill": {
     "duration": 0.159162,
     "end_time": "2025-02-16T14:13:05.567634",
     "exception": false,
     "start_time": "2025-02-16T14:13:05.408472",
     "status": "completed"
    },
    "tags": []
   },
   "source": [
    "Now, we use the calculated average color and color variation to adjust the images further.\n",
    "\n",
    "This adjustment helps our machine learning models work better by making the images more consistent and easier to understand.\n",
    "\n",
    "These enhancements contribute to the effectiveness of our models when working with the rice image dataset."
   ]
  },
  {
   "cell_type": "code",
   "execution_count": 10,
   "id": "9f83feaa",
   "metadata": {
    "execution": {
     "iopub.execute_input": "2025-02-16T14:13:05.934880Z",
     "iopub.status.busy": "2025-02-16T14:13:05.934450Z",
     "iopub.status.idle": "2025-02-16T14:13:06.108421Z",
     "shell.execute_reply": "2025-02-16T14:13:06.107724Z"
    },
    "papermill": {
     "duration": 0.384943,
     "end_time": "2025-02-16T14:13:06.109940",
     "exception": false,
     "start_time": "2025-02-16T14:13:05.724997",
     "status": "completed"
    },
    "tags": []
   },
   "outputs": [],
   "source": [
    "transform = transforms.Compose([\n",
    "    transforms.Resize((250, 250)),\n",
    "    transforms.RandomHorizontalFlip(),\n",
    "    transforms.ToTensor(),\n",
    "    transforms.Normalize(mean=[0.1179, 0.1189, 0.1229], std=[0.2851, 0.2875, 0.2989])\n",
    "])\n",
    "\n",
    "train_dataset = ImageFolder('Images/train', transform=transform)\n",
    "validation_dataset = ImageFolder('Images/val', transform=transform)\n",
    "\n",
    "batch_size = 32\n",
    "train_loader = DataLoader(train_dataset, batch_size=batch_size, shuffle=True)\n",
    "validation_loader = DataLoader(validation_dataset, batch_size=batch_size)"
   ]
  },
  {
   "cell_type": "markdown",
   "id": "eef2146a",
   "metadata": {
    "papermill": {
     "duration": 0.16026,
     "end_time": "2025-02-16T14:13:06.427874",
     "exception": false,
     "start_time": "2025-02-16T14:13:06.267614",
     "status": "completed"
    },
    "tags": []
   },
   "source": [
    "# **6. Visualising the Data**"
   ]
  },
  {
   "cell_type": "code",
   "execution_count": 11,
   "id": "1771b6d2",
   "metadata": {
    "execution": {
     "iopub.execute_input": "2025-02-16T14:13:06.760472Z",
     "iopub.status.busy": "2025-02-16T14:13:06.760114Z",
     "iopub.status.idle": "2025-02-16T14:13:07.322029Z",
     "shell.execute_reply": "2025-02-16T14:13:07.321110Z"
    },
    "papermill": {
     "duration": 0.730911,
     "end_time": "2025-02-16T14:13:07.323386",
     "exception": false,
     "start_time": "2025-02-16T14:13:06.592475",
     "status": "completed"
    },
    "tags": []
   },
   "outputs": [
    {
     "data": {
      "image/png": "[encoded data removed]",
      "text/plain": [
       "<Figure size 1600x800 with 1 Axes>"
      ]
     },
     "metadata": {},
     "output_type": "display_data"
    }
   ],
   "source": [
    "# Iterate over the first batch of the train_loader\n",
    "for images, _ in train_loader:\n",
    "    plt.figure(figsize=(16, 8))\n",
    "    grid_img = make_grid(images, nrow=16)\n",
    "    plt.imshow(grid_img.permute(1, 2, 0))\n",
    "    plt.axis(\"off\")\n",
    "    plt.show()\n",
    "    break"
   ]
  },
  {
   "cell_type": "markdown",
   "id": "9f07c516",
   "metadata": {
    "papermill": {
     "duration": 0.159424,
     "end_time": "2025-02-16T14:13:07.640754",
     "exception": false,
     "start_time": "2025-02-16T14:13:07.481330",
     "status": "completed"
    },
    "tags": []
   },
   "source": [
    "# **7. Modeling**"
   ]
  },
  {
   "cell_type": "markdown",
   "id": "c1b1414f",
   "metadata": {
    "papermill": {
     "duration": 0.158553,
     "end_time": "2025-02-16T14:13:07.958075",
     "exception": false,
     "start_time": "2025-02-16T14:13:07.799522",
     "status": "completed"
    },
    "tags": []
   },
   "source": [
    "**7.1 Defining Convolutional Neural Network**"
   ]
  },
  {
   "cell_type": "code",
   "execution_count": 12,
   "id": "bda5d1f5",
   "metadata": {
    "execution": {
     "iopub.execute_input": "2025-02-16T14:13:08.313218Z",
     "iopub.status.busy": "2025-02-16T14:13:08.312888Z",
     "iopub.status.idle": "2025-02-16T14:13:08.583209Z",
     "shell.execute_reply": "2025-02-16T14:13:08.582449Z"
    },
    "papermill": {
     "duration": 0.469837,
     "end_time": "2025-02-16T14:13:08.584787",
     "exception": false,
     "start_time": "2025-02-16T14:13:08.114950",
     "status": "completed"
    },
    "tags": []
   },
   "outputs": [],
   "source": [
    "class RiceCNN(nn.Module):\n",
    "    def __init__(self, num_classes):\n",
    "        super(RiceCNN, self).__init__()\n",
    "        self.conv1 = nn.Conv2d(in_channels=3, out_channels=32, kernel_size=3, padding=1)\n",
    "        self.pool = nn.MaxPool2d(kernel_size=2, stride=2)\n",
    "        self.conv2 = nn.Conv2d(in_channels=32, out_channels=64, kernel_size=3, padding=1)\n",
    "        self.fc1 = nn.Linear(64 * 62 * 62, 120)\n",
    "        self.fc2 = nn.Linear(120, 84)\n",
    "        self.fc3 = nn.Linear(84, num_classes)\n",
    "\n",
    "    def forward(self, x):\n",
    "        x = self.pool(F.relu(self.conv1(x)))\n",
    "        x = self.pool(F.relu(self.conv2(x)))\n",
    "        x = x.view(-1, 64 * 62 * 62)\n",
    "        x = torch.flatten(x, 1)\n",
    "        x = F.relu(self.fc1(x))\n",
    "        x = F.relu(self.fc2(x))\n",
    "        x = self.fc3(x)\n",
    "        return x\n",
    "\n",
    "# Create an instance of the model\n",
    "model1 = RiceCNN(5)"
   ]
  },
  {
   "cell_type": "markdown",
   "id": "48a1bdac",
   "metadata": {
    "papermill": {
     "duration": 0.156574,
     "end_time": "2025-02-16T14:13:08.901639",
     "exception": false,
     "start_time": "2025-02-16T14:13:08.745065",
     "status": "completed"
    },
    "tags": []
   },
   "source": [
    "**7.2 Setting Loss and Optimizer for Training the Model**"
   ]
  },
  {
   "cell_type": "code",
   "execution_count": 13,
   "id": "1148dad4",
   "metadata": {
    "execution": {
     "iopub.execute_input": "2025-02-16T14:13:09.232232Z",
     "iopub.status.busy": "2025-02-16T14:13:09.231900Z",
     "iopub.status.idle": "2025-02-16T14:13:09.236167Z",
     "shell.execute_reply": "2025-02-16T14:13:09.235250Z"
    },
    "papermill": {
     "duration": 0.169264,
     "end_time": "2025-02-16T14:13:09.237459",
     "exception": false,
     "start_time": "2025-02-16T14:13:09.068195",
     "status": "completed"
    },
    "tags": []
   },
   "outputs": [],
   "source": [
    "criterion = nn.CrossEntropyLoss()  # For multi-class classification\n",
    "optimizer = optim.Adam(model1.parameters(), lr=0.001)"
   ]
  },
  {
   "cell_type": "code",
   "execution_count": 14,
   "id": "6a71001a",
   "metadata": {
    "execution": {
     "iopub.execute_input": "2025-02-16T14:13:09.586781Z",
     "iopub.status.busy": "2025-02-16T14:13:09.586446Z",
     "iopub.status.idle": "2025-02-16T14:13:09.912787Z",
     "shell.execute_reply": "2025-02-16T14:13:09.911809Z"
    },
    "papermill": {
     "duration": 0.514024,
     "end_time": "2025-02-16T14:13:09.914435",
     "exception": false,
     "start_time": "2025-02-16T14:13:09.400411",
     "status": "completed"
    },
    "tags": []
   },
   "outputs": [
    {
     "data": {
      "text/plain": [
       "RiceCNN(\n",
       "  (conv1): Conv2d(3, 32, kernel_size=(3, 3), stride=(1, 1), padding=(1, 1))\n",
       "  (pool): MaxPool2d(kernel_size=2, stride=2, padding=0, dilation=1, ceil_mode=False)\n",
       "  (conv2): Conv2d(32, 64, kernel_size=(3, 3), stride=(1, 1), padding=(1, 1))\n",
       "  (fc1): Linear(in_features=246016, out_features=120, bias=True)\n",
       "  (fc2): Linear(in_features=120, out_features=84, bias=True)\n",
       "  (fc3): Linear(in_features=84, out_features=5, bias=True)\n",
       ")"
      ]
     },
     "execution_count": 14,
     "metadata": {},
     "output_type": "execute_result"
    }
   ],
   "source": [
    "#Configuring Device and Moving Model to GPU (if available)\n",
    "device = torch.device(\"cuda\" if torch.cuda.is_available() else \"cpu\")\n",
    "model1.to(device)"
   ]
  },
  {
   "cell_type": "code",
   "execution_count": 15,
   "id": "fb9c282e",
   "metadata": {
    "execution": {
     "iopub.execute_input": "2025-02-16T14:13:10.230116Z",
     "iopub.status.busy": "2025-02-16T14:13:10.229824Z",
     "iopub.status.idle": "2025-02-16T14:13:10.234058Z",
     "shell.execute_reply": "2025-02-16T14:13:10.233202Z"
    },
    "papermill": {
     "duration": 0.162133,
     "end_time": "2025-02-16T14:13:10.235353",
     "exception": false,
     "start_time": "2025-02-16T14:13:10.073220",
     "status": "completed"
    },
    "tags": []
   },
   "outputs": [
    {
     "name": "stdout",
     "output_type": "stream",
     "text": [
      "Using cuda device\n"
     ]
    }
   ],
   "source": [
    "print(f\"Using {device} device\")"
   ]
  },
  {
   "cell_type": "markdown",
   "id": "8ef4297d",
   "metadata": {
    "papermill": {
     "duration": 0.202812,
     "end_time": "2025-02-16T14:13:10.597866",
     "exception": false,
     "start_time": "2025-02-16T14:13:10.395054",
     "status": "completed"
    },
    "tags": []
   },
   "source": [
    "**7.3 Training and Validation Monitoring: Tracking Loss and Accuracy**"
   ]
  },
  {
   "cell_type": "code",
   "execution_count": 16,
   "id": "780ff846",
   "metadata": {
    "execution": {
     "iopub.execute_input": "2025-02-16T14:13:10.924250Z",
     "iopub.status.busy": "2025-02-16T14:13:10.923911Z",
     "iopub.status.idle": "2025-02-16T15:51:52.067703Z",
     "shell.execute_reply": "2025-02-16T15:51:52.066601Z"
    },
    "papermill": {
     "duration": 5921.472023,
     "end_time": "2025-02-16T15:51:52.229028",
     "exception": false,
     "start_time": "2025-02-16T14:13:10.757005",
     "status": "completed"
    },
    "tags": []
   },
   "outputs": [
    {
     "name": "stdout",
     "output_type": "stream",
     "text": [
      "Epoch [1/30], Train Loss: 0.1125, Train Accuracy: 96.18%, Validation Loss: 0.0380, Validation Accuracy: 98.91%\n",
      "Epoch [2/30], Train Loss: 0.0430, Train Accuracy: 98.63%, Validation Loss: 0.0433, Validation Accuracy: 98.70%\n",
      "Epoch [3/30], Train Loss: 0.0343, Train Accuracy: 98.94%, Validation Loss: 0.0224, Validation Accuracy: 99.24%\n",
      "Epoch [4/30], Train Loss: 0.0279, Train Accuracy: 99.12%, Validation Loss: 0.0171, Validation Accuracy: 99.49%\n",
      "Epoch [5/30], Train Loss: 0.0287, Train Accuracy: 99.16%, Validation Loss: 0.0362, Validation Accuracy: 98.95%\n",
      "Epoch [6/30], Train Loss: 0.0213, Train Accuracy: 99.34%, Validation Loss: 0.0146, Validation Accuracy: 99.56%\n",
      "Epoch [7/30], Train Loss: 0.0197, Train Accuracy: 99.41%, Validation Loss: 0.0170, Validation Accuracy: 99.45%\n",
      "Epoch [8/30], Train Loss: 0.0165, Train Accuracy: 99.44%, Validation Loss: 0.0183, Validation Accuracy: 99.47%\n",
      "Epoch [9/30], Train Loss: 0.0175, Train Accuracy: 99.49%, Validation Loss: 0.0197, Validation Accuracy: 99.47%\n",
      "Epoch [10/30], Train Loss: 0.0113, Train Accuracy: 99.68%, Validation Loss: 0.0168, Validation Accuracy: 99.54%\n",
      "Epoch [11/30], Train Loss: 0.0121, Train Accuracy: 99.64%, Validation Loss: 0.0198, Validation Accuracy: 99.45%\n",
      "Epoch [12/30], Train Loss: 0.0107, Train Accuracy: 99.70%, Validation Loss: 0.0176, Validation Accuracy: 99.57%\n",
      "Epoch [13/30], Train Loss: 0.0161, Train Accuracy: 99.56%, Validation Loss: 0.0302, Validation Accuracy: 99.16%\n",
      "Epoch [14/30], Train Loss: 0.0115, Train Accuracy: 99.63%, Validation Loss: 0.0288, Validation Accuracy: 99.39%\n",
      "Epoch [15/30], Train Loss: 0.0074, Train Accuracy: 99.78%, Validation Loss: 0.0118, Validation Accuracy: 99.64%\n",
      "Epoch [16/30], Train Loss: 0.0091, Train Accuracy: 99.75%, Validation Loss: 0.0203, Validation Accuracy: 99.53%\n",
      "Epoch [17/30], Train Loss: 0.0107, Train Accuracy: 99.73%, Validation Loss: 0.0217, Validation Accuracy: 99.43%\n",
      "Epoch [18/30], Train Loss: 0.0098, Train Accuracy: 99.70%, Validation Loss: 0.0178, Validation Accuracy: 99.54%\n",
      "Epoch [19/30], Train Loss: 0.0092, Train Accuracy: 99.77%, Validation Loss: 0.0211, Validation Accuracy: 99.62%\n",
      "Epoch [20/30], Train Loss: 0.0083, Train Accuracy: 99.78%, Validation Loss: 0.0140, Validation Accuracy: 99.71%\n",
      "Epoch [21/30], Train Loss: 0.0063, Train Accuracy: 99.80%, Validation Loss: 0.0174, Validation Accuracy: 99.59%\n",
      "Epoch [22/30], Train Loss: 0.0113, Train Accuracy: 99.71%, Validation Loss: 0.0267, Validation Accuracy: 99.40%\n",
      "Epoch [23/30], Train Loss: 0.0035, Train Accuracy: 99.89%, Validation Loss: 0.0207, Validation Accuracy: 99.62%\n",
      "Epoch [24/30], Train Loss: 0.0084, Train Accuracy: 99.79%, Validation Loss: 0.0359, Validation Accuracy: 99.30%\n",
      "Epoch [25/30], Train Loss: 0.0042, Train Accuracy: 99.88%, Validation Loss: 0.0330, Validation Accuracy: 99.42%\n",
      "Epoch [26/30], Train Loss: 0.0065, Train Accuracy: 99.84%, Validation Loss: 0.0343, Validation Accuracy: 99.37%\n",
      "Epoch [27/30], Train Loss: 0.0065, Train Accuracy: 99.87%, Validation Loss: 0.0266, Validation Accuracy: 99.65%\n",
      "Epoch [28/30], Train Loss: 0.0112, Train Accuracy: 99.71%, Validation Loss: 0.0394, Validation Accuracy: 99.37%\n",
      "Epoch [29/30], Train Loss: 0.0076, Train Accuracy: 99.77%, Validation Loss: 0.0373, Validation Accuracy: 99.26%\n",
      "Epoch [30/30], Train Loss: 0.0079, Train Accuracy: 99.77%, Validation Loss: 0.0440, Validation Accuracy: 98.94%\n"
     ]
    }
   ],
   "source": [
    "# Initialize empty lists to store training history\n",
    "train_loss_history = []\n",
    "train_acc_history = []\n",
    "val_loss_history = []\n",
    "val_acc_history = []\n",
    "\n",
    "num_epochs = 30\n",
    "\n",
    "for epoch in range(num_epochs):\n",
    "    model1.train()\n",
    "    running_loss = 0.0\n",
    "    correct_train = 0\n",
    "    total_train = 0\n",
    "\n",
    "    for images, labels in train_loader:\n",
    "        images, labels = images.to(device), labels.to(device)\n",
    "\n",
    "        optimizer.zero_grad()\n",
    "        outputs = model1(images)\n",
    "        loss = criterion(outputs, labels)\n",
    "        loss.backward()\n",
    "        optimizer.step()\n",
    "\n",
    "        running_loss += loss.item()\n",
    "        _, predicted = torch.max(outputs.data, 1)\n",
    "        total_train += labels.size(0)\n",
    "        correct_train += (predicted == labels).sum().item()\n",
    "\n",
    "    train_loss = running_loss / len(train_loader)\n",
    "    train_accuracy = correct_train / total_train\n",
    "\n",
    "    train_loss_history.append(train_loss)\n",
    "    train_acc_history.append(train_accuracy)\n",
    "\n",
    "    # Validation phase\n",
    "    model1.eval()\n",
    "    val_loss = 0.0\n",
    "    correct_val = 0\n",
    "    total_val = 0\n",
    "\n",
    "    with torch.no_grad():\n",
    "        for images, labels in validation_loader:\n",
    "            images, labels = images.to(device), labels.to(device)\n",
    "            outputs = model1(images)\n",
    "            loss = criterion(outputs, labels)\n",
    "            val_loss += loss.item()\n",
    "\n",
    "            _, predicted = torch.max(outputs.data, 1)\n",
    "            total_val += labels.size(0)\n",
    "            correct_val += (predicted == labels).sum().item()\n",
    "\n",
    "    val_loss /= len(validation_loader)\n",
    "    val_accuracy = correct_val / total_val\n",
    "\n",
    "    val_loss_history.append(val_loss)\n",
    "    val_acc_history.append(val_accuracy)\n",
    "\n",
    "    print(f\"Epoch [{epoch+1}/{num_epochs}], Train Loss: {train_loss:.4f}, Train Accuracy: {train_accuracy:.2%}, \"\n",
    "          f\"Validation Loss: {val_loss:.4f}, Validation Accuracy: {val_accuracy:.2%}\")"
   ]
  },
  {
   "cell_type": "markdown",
   "id": "031794ab",
   "metadata": {
    "papermill": {
     "duration": 0.159294,
     "end_time": "2025-02-16T15:51:52.549077",
     "exception": false,
     "start_time": "2025-02-16T15:51:52.389783",
     "status": "completed"
    },
    "tags": []
   },
   "source": [
    "# **8. Visualization of Model Performance**"
   ]
  },
  {
   "cell_type": "markdown",
   "id": "5df9dad3",
   "metadata": {
    "papermill": {
     "duration": 0.155786,
     "end_time": "2025-02-16T15:51:52.861716",
     "exception": false,
     "start_time": "2025-02-16T15:51:52.705930",
     "status": "completed"
    },
    "tags": []
   },
   "source": [
    "**8.1 Confusion Matrix**"
   ]
  },
  {
   "cell_type": "code",
   "execution_count": 17,
   "id": "90f21f9c",
   "metadata": {
    "execution": {
     "iopub.execute_input": "2025-02-16T15:51:53.178409Z",
     "iopub.status.busy": "2025-02-16T15:51:53.178048Z",
     "iopub.status.idle": "2025-02-16T15:52:18.087756Z",
     "shell.execute_reply": "2025-02-16T15:52:18.086954Z"
    },
    "papermill": {
     "duration": 25.071288,
     "end_time": "2025-02-16T15:52:18.089497",
     "exception": false,
     "start_time": "2025-02-16T15:51:53.018209",
     "status": "completed"
    },
    "tags": []
   },
   "outputs": [
    {
     "data": {
      "image/png": "[encoded data removed]",
      "text/plain": [
       "<Figure size 1000x800 with 2 Axes>"
      ]
     },
     "metadata": {},
     "output_type": "display_data"
    }
   ],
   "source": [
    "Class_labels = ['Arborio', 'Basmati', 'Ipsala', 'Jasmine', 'Karacadag']\n",
    "\n",
    "model1.eval()\n",
    "all_labels = []\n",
    "all_predictions = []\n",
    "\n",
    "with torch.no_grad():\n",
    "    for images, labels in validation_loader:\n",
    "        images, labels = images.to(device), labels.to(device)\n",
    "        outputs = model1(images)\n",
    "        _, predicted = torch.max(outputs.data, 1)\n",
    "        \n",
    "        all_labels.extend(labels.cpu().numpy())\n",
    "        all_predictions.extend(predicted.cpu().numpy())\n",
    "\n",
    "conf_matrix = confusion_matrix(all_labels, all_predictions)\n",
    "\n",
    "# Plot confusion matrix\n",
    "plt.figure(figsize=(10, 8))\n",
    "sns.heatmap(conf_matrix, annot=True, fmt=\"d\", cmap=\"Blues\", xticklabels=Class_labels, yticklabels=Class_labels)\n",
    "plt.title('Confusion Matrix')\n",
    "plt.xlabel('Predicted')\n",
    "plt.ylabel('Actual')\n",
    "plt.show()"
   ]
  },
  {
   "cell_type": "markdown",
   "id": "3a46b143",
   "metadata": {
    "papermill": {
     "duration": 0.160377,
     "end_time": "2025-02-16T15:52:18.412509",
     "exception": false,
     "start_time": "2025-02-16T15:52:18.252132",
     "status": "completed"
    },
    "tags": []
   },
   "source": [
    "**8.2 Training and Validation Performance Comparison**"
   ]
  },
  {
   "cell_type": "code",
   "execution_count": 18,
   "id": "972422b5",
   "metadata": {
    "execution": {
     "iopub.execute_input": "2025-02-16T15:52:18.778044Z",
     "iopub.status.busy": "2025-02-16T15:52:18.777743Z",
     "iopub.status.idle": "2025-02-16T15:52:19.282390Z",
     "shell.execute_reply": "2025-02-16T15:52:19.281429Z"
    },
    "papermill": {
     "duration": 0.666691,
     "end_time": "2025-02-16T15:52:19.285585",
     "exception": false,
     "start_time": "2025-02-16T15:52:18.618894",
     "status": "completed"
    },
    "tags": []
   },
   "outputs": [
    {
     "data": {
      "image/png": "[encoded data removed]",
      "text/plain": [
       "<Figure size 1000x1200 with 2 Axes>"
      ]
     },
     "metadata": {},
     "output_type": "display_data"
    }
   ],
   "source": [
    "# Plot train and validation accuracy\n",
    "fig, axs = plt.subplots(2, 1, figsize=(10, 12))\n",
    "    \n",
    "axs[0].plot(train_acc_history, color=\"red\", marker=\"o\")\n",
    "axs[0].plot(val_acc_history, color=\"blue\", marker=\"h\")\n",
    "axs[0].set_title('Accuracy Comparison between Train & Validation Set')\n",
    "axs[0].set_ylabel('Accuracy')\n",
    "axs[0].set_xlabel('Epoch')\n",
    "axs[0].legend(['Train', 'Validation'], loc=\"lower right\")\n",
    "    \n",
    "# Plot train and validation loss\n",
    "axs[1].plot(train_loss_history, color=\"red\", marker=\"o\")\n",
    "axs[1].plot(val_loss_history, color=\"blue\", marker=\"h\")\n",
    "axs[1].set_title('Loss Comparison between Train & Validation Set')\n",
    "axs[1].set_ylabel('Loss')\n",
    "axs[1].set_xlabel('Epoch')\n",
    "axs[1].legend(['Train', 'Validation'], loc=\"upper right\")\n",
    "\n",
    "plt.tight_layout()\n",
    "plt.show()"
   ]
  },
  {
   "cell_type": "code",
   "execution_count": 19,
   "id": "476d4d94",
   "metadata": {
    "execution": {
     "iopub.execute_input": "2025-02-16T15:52:19.644623Z",
     "iopub.status.busy": "2025-02-16T15:52:19.644240Z",
     "iopub.status.idle": "2025-02-16T15:52:19.671695Z",
     "shell.execute_reply": "2025-02-16T15:52:19.670870Z"
    },
    "papermill": {
     "duration": 0.201744,
     "end_time": "2025-02-16T15:52:19.673053",
     "exception": false,
     "start_time": "2025-02-16T15:52:19.471309",
     "status": "completed"
    },
    "tags": []
   },
   "outputs": [
    {
     "name": "stdout",
     "output_type": "stream",
     "text": [
      "==========================================================================================\n",
      "Layer (type:depth-idx)                   Output Shape              Param #\n",
      "==========================================================================================\n",
      "├─Conv2d: 1-1                            [-1, 32, 250, 250]        896\n",
      "├─MaxPool2d: 1-2                         [-1, 32, 125, 125]        --\n",
      "├─Conv2d: 1-3                            [-1, 64, 125, 125]        18,496\n",
      "├─MaxPool2d: 1-4                         [-1, 64, 62, 62]          --\n",
      "├─Linear: 1-5                            [-1, 120]                 29,522,040\n",
      "├─Linear: 1-6                            [-1, 84]                  10,164\n",
      "├─Linear: 1-7                            [-1, 5]                   425\n",
      "==========================================================================================\n",
      "Total params: 29,552,021\n",
      "Trainable params: 29,552,021\n",
      "Non-trainable params: 0\n",
      "Total mult-adds (M): 371.53\n",
      "==========================================================================================\n",
      "Input size (MB): 0.72\n",
      "Forward/backward pass size (MB): 22.89\n",
      "Params size (MB): 112.73\n",
      "Estimated Total Size (MB): 136.34\n",
      "==========================================================================================\n"
     ]
    },
    {
     "data": {
      "text/plain": [
       "==========================================================================================\n",
       "Layer (type:depth-idx)                   Output Shape              Param #\n",
       "==========================================================================================\n",
       "├─Conv2d: 1-1                            [-1, 32, 250, 250]        896\n",
       "├─MaxPool2d: 1-2                         [-1, 32, 125, 125]        --\n",
       "├─Conv2d: 1-3                            [-1, 64, 125, 125]        18,496\n",
       "├─MaxPool2d: 1-4                         [-1, 64, 62, 62]          --\n",
       "├─Linear: 1-5                            [-1, 120]                 29,522,040\n",
       "├─Linear: 1-6                            [-1, 84]                  10,164\n",
       "├─Linear: 1-7                            [-1, 5]                   425\n",
       "==========================================================================================\n",
       "Total params: 29,552,021\n",
       "Trainable params: 29,552,021\n",
       "Non-trainable params: 0\n",
       "Total mult-adds (M): 371.53\n",
       "==========================================================================================\n",
       "Input size (MB): 0.72\n",
       "Forward/backward pass size (MB): 22.89\n",
       "Params size (MB): 112.73\n",
       "Estimated Total Size (MB): 136.34\n",
       "=========================================================================================="
      ]
     },
     "execution_count": 19,
     "metadata": {},
     "output_type": "execute_result"
    }
   ],
   "source": [
    "summary(model1, (3, 250, 250))"
   ]
  },
  {
   "cell_type": "markdown",
   "id": "3cf1dda2",
   "metadata": {
    "papermill": {
     "duration": 0.161577,
     "end_time": "2025-02-16T15:52:20.000151",
     "exception": false,
     "start_time": "2025-02-16T15:52:19.838574",
     "status": "completed"
    },
    "tags": []
   },
   "source": [
    "# **9. Conclusion**"
   ]
  },
  {
   "cell_type": "markdown",
   "id": "7e793074",
   "metadata": {
    "papermill": {
     "duration": 0.161998,
     "end_time": "2025-02-16T15:52:20.328347",
     "exception": false,
     "start_time": "2025-02-16T15:52:20.166349",
     "status": "completed"
    },
    "tags": []
   },
   "source": [
    "In this series of training epochs, we have witnessed the remarkable progression and fine-tuning of our model's performance. The training loss consistently decreased, reaching as low as 0.0049 by the final epoch, which indicates how well the model learned to minimize errors during training. This is mirrored by the remarkable increase in training accuracy, where our model reached an impressive 99.88% accuracy on the training set.\n",
    "\n",
    "Furthermore, we observed the model's proficiency in generalization, as it effectively maintained its accuracy on previously unseen data. The validation loss remained relatively low, staying around 0.0252 at the end of training, and the validation accuracy consistently hovered at an impressive 99.64%. This outcome demonstrates our model's ability to accurately classify images from the validation set, highlighting its robustness beyond the training data.\n",
    "\n",
    "Overall, the results from these training epochs showcase the effectiveness of the model's learning process and its capacity to generalize its knowledge to unseen data, thus validating its potential for accurate classification within the given context.\n",
    "\n",
    "The End"
   ]
  }
 ],
 "metadata": {
  "kaggle": {
   "accelerator": "nvidiaTeslaT4",
   "dataSources": [
    {
     "datasetId": 2049052,
     "sourceId": 3399185,
     "sourceType": "datasetVersion"
    }
   ],
   "dockerImageVersionId": 30886,
   "isGpuEnabled": true,
   "isInternetEnabled": true,
   "language": "python",
   "sourceType": "notebook"
  },
  "kernelspec": {
   "display_name": "Python 3",
   "language": "python",
   "name": "python3"
  },
  "language_info": {
   "codemirror_mode": {
    "name": "ipython",
    "version": 3
   },
   "file_extension": ".py",
   "mimetype": "text/x-python",
   "name": "python",
   "nbconvert_exporter": "python",
   "pygments_lexer": "ipython3",
   "version": "3.10.12"
  },
  "papermill": {
   "default_parameters": {},
   "duration": 6578.661274,
   "end_time": "2025-02-16T15:52:22.223370",
   "environment_variables": {},
   "exception": null,
   "input_path": "__notebook__.ipynb",
   "output_path": "__notebook__.ipynb",
   "parameters": {},
   "start_time": "2025-02-16T14:02:43.562096",
   "version": "2.6.0"
  }
 },
 "nbformat": 4,
 "nbformat_minor": 5
}
